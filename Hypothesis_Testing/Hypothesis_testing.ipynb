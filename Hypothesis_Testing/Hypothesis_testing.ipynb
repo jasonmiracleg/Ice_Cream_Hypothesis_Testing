{
 "cells": [
  {
   "cell_type": "markdown",
   "metadata": {},
   "source": [
    "# Setup Part"
   ]
  },
  {
   "cell_type": "code",
   "execution_count": 16,
   "metadata": {
    "tags": []
   },
   "outputs": [],
   "source": [
    "# Import Library\n",
    "import numpy as np\n",
    "import pandas as pd\n",
    "from scipy import stats as st\n",
    "import statistics as stat\n",
    "import math\n",
    "\n",
    "import matplotlib.pyplot as plt\n",
    "import seaborn as sns"
   ]
  },
  {
   "cell_type": "code",
   "execution_count": 3,
   "metadata": {
    "tags": []
   },
   "outputs": [
    {
     "data": {
      "text/html": [
       "<div>\n",
       "<style scoped>\n",
       "    .dataframe tbody tr th:only-of-type {\n",
       "        vertical-align: middle;\n",
       "    }\n",
       "\n",
       "    .dataframe tbody tr th {\n",
       "        vertical-align: top;\n",
       "    }\n",
       "\n",
       "    .dataframe thead th {\n",
       "        text-align: right;\n",
       "    }\n",
       "</style>\n",
       "<table border=\"1\" class=\"dataframe\">\n",
       "  <thead>\n",
       "    <tr style=\"text-align: right;\">\n",
       "      <th></th>\n",
       "      <th>Franchise ID</th>\n",
       "      <th>Franchise Name</th>\n",
       "      <th>City</th>\n",
       "      <th>Country</th>\n",
       "      <th>Number of Employees</th>\n",
       "      <th>Revenue</th>\n",
       "      <th>Profit</th>\n",
       "      <th>Expenses</th>\n",
       "      <th>Customer Satisfaction Score</th>\n",
       "      <th>Number of Transactions</th>\n",
       "      <th>Marketing Spent</th>\n",
       "      <th>Pre-Marketing Visitors</th>\n",
       "      <th>Post-Marketing Visitors</th>\n",
       "    </tr>\n",
       "  </thead>\n",
       "  <tbody>\n",
       "    <tr>\n",
       "      <th>0</th>\n",
       "      <td>1</td>\n",
       "      <td>Cold Stone Creamery</td>\n",
       "      <td>New York</td>\n",
       "      <td>USA</td>\n",
       "      <td>20</td>\n",
       "      <td>150000</td>\n",
       "      <td>60000</td>\n",
       "      <td>90000</td>\n",
       "      <td>4.5</td>\n",
       "      <td>500</td>\n",
       "      <td>2000</td>\n",
       "      <td>500</td>\n",
       "      <td>1000</td>\n",
       "    </tr>\n",
       "    <tr>\n",
       "      <th>1</th>\n",
       "      <td>2</td>\n",
       "      <td>Baskin-Robbins</td>\n",
       "      <td>Los Angeles</td>\n",
       "      <td>USA</td>\n",
       "      <td>15</td>\n",
       "      <td>120000</td>\n",
       "      <td>50000</td>\n",
       "      <td>70000</td>\n",
       "      <td>4.3</td>\n",
       "      <td>450</td>\n",
       "      <td>1800</td>\n",
       "      <td>400</td>\n",
       "      <td>900</td>\n",
       "    </tr>\n",
       "    <tr>\n",
       "      <th>2</th>\n",
       "      <td>3</td>\n",
       "      <td>Dairy Queen</td>\n",
       "      <td>Chicago</td>\n",
       "      <td>USA</td>\n",
       "      <td>25</td>\n",
       "      <td>180000</td>\n",
       "      <td>75000</td>\n",
       "      <td>105000</td>\n",
       "      <td>4.2</td>\n",
       "      <td>550</td>\n",
       "      <td>2200</td>\n",
       "      <td>600</td>\n",
       "      <td>1100</td>\n",
       "    </tr>\n",
       "    <tr>\n",
       "      <th>3</th>\n",
       "      <td>4</td>\n",
       "      <td>Ben &amp; Jerry's</td>\n",
       "      <td>Miami</td>\n",
       "      <td>USA</td>\n",
       "      <td>18</td>\n",
       "      <td>140000</td>\n",
       "      <td>58000</td>\n",
       "      <td>82000</td>\n",
       "      <td>4.6</td>\n",
       "      <td>480</td>\n",
       "      <td>1900</td>\n",
       "      <td>450</td>\n",
       "      <td>950</td>\n",
       "    </tr>\n",
       "    <tr>\n",
       "      <th>4</th>\n",
       "      <td>5</td>\n",
       "      <td>Haagen-Dazs</td>\n",
       "      <td>San Francisco</td>\n",
       "      <td>USA</td>\n",
       "      <td>12</td>\n",
       "      <td>100000</td>\n",
       "      <td>40000</td>\n",
       "      <td>60000</td>\n",
       "      <td>4.4</td>\n",
       "      <td>400</td>\n",
       "      <td>1600</td>\n",
       "      <td>350</td>\n",
       "      <td>800</td>\n",
       "    </tr>\n",
       "  </tbody>\n",
       "</table>\n",
       "</div>"
      ],
      "text/plain": [
       "   Franchise ID       Franchise Name           City Country  \\\n",
       "0             1  Cold Stone Creamery       New York     USA   \n",
       "1             2       Baskin-Robbins    Los Angeles     USA   \n",
       "2             3          Dairy Queen        Chicago     USA   \n",
       "3             4        Ben & Jerry's          Miami     USA   \n",
       "4             5          Haagen-Dazs  San Francisco     USA   \n",
       "\n",
       "   Number of Employees  Revenue  Profit  Expenses  \\\n",
       "0                   20   150000   60000     90000   \n",
       "1                   15   120000   50000     70000   \n",
       "2                   25   180000   75000    105000   \n",
       "3                   18   140000   58000     82000   \n",
       "4                   12   100000   40000     60000   \n",
       "\n",
       "   Customer Satisfaction Score  Number of Transactions  Marketing Spent  \\\n",
       "0                          4.5                     500             2000   \n",
       "1                          4.3                     450             1800   \n",
       "2                          4.2                     550             2200   \n",
       "3                          4.6                     480             1900   \n",
       "4                          4.4                     400             1600   \n",
       "\n",
       "   Pre-Marketing Visitors  Post-Marketing Visitors  \n",
       "0                     500                     1000  \n",
       "1                     400                      900  \n",
       "2                     600                     1100  \n",
       "3                     450                      950  \n",
       "4                     350                      800  "
      ]
     },
     "execution_count": 3,
     "metadata": {},
     "output_type": "execute_result"
    }
   ],
   "source": [
    "# Gather the Data\n",
    "url = 'https://raw.githubusercontent.com/jasonmiracleg/Ice_Cream_Hypothesis_Testing/main/Dataset/Ice_Cream_Dataset.csv'\n",
    "original_df = pd.read_csv(url, sep=',')\n",
    "original_df.head()"
   ]
  },
  {
   "cell_type": "markdown",
   "metadata": {},
   "source": [
    "# Managing the Data"
   ]
  },
  {
   "cell_type": "markdown",
   "metadata": {},
   "source": [
    "## One Sample"
   ]
  },
  {
   "cell_type": "markdown",
   "metadata": {},
   "source": [
    "### The 20 Italia franchises have maintained their customer service very well which makes them reach customer satisfaction scores above 4.5."
   ]
  },
  {
   "cell_type": "code",
   "execution_count": 26,
   "metadata": {},
   "outputs": [
    {
     "data": {
      "text/html": [
       "<div>\n",
       "<style scoped>\n",
       "    .dataframe tbody tr th:only-of-type {\n",
       "        vertical-align: middle;\n",
       "    }\n",
       "\n",
       "    .dataframe tbody tr th {\n",
       "        vertical-align: top;\n",
       "    }\n",
       "\n",
       "    .dataframe thead th {\n",
       "        text-align: right;\n",
       "    }\n",
       "</style>\n",
       "<table border=\"1\" class=\"dataframe\">\n",
       "  <thead>\n",
       "    <tr style=\"text-align: right;\">\n",
       "      <th></th>\n",
       "      <th>Franchise ID</th>\n",
       "      <th>Franchise Name</th>\n",
       "      <th>City</th>\n",
       "      <th>Country</th>\n",
       "      <th>Number of Employees</th>\n",
       "      <th>Revenue</th>\n",
       "      <th>Profit</th>\n",
       "      <th>Expenses</th>\n",
       "      <th>Customer Satisfaction Score</th>\n",
       "      <th>Number of Transactions</th>\n",
       "      <th>Marketing Spent</th>\n",
       "      <th>Pre-Marketing Visitors</th>\n",
       "      <th>Post-Marketing Visitors</th>\n",
       "    </tr>\n",
       "  </thead>\n",
       "  <tbody>\n",
       "    <tr>\n",
       "      <th>90</th>\n",
       "      <td>91</td>\n",
       "      <td>Gelateria Giolitti</td>\n",
       "      <td>Rome</td>\n",
       "      <td>Italy</td>\n",
       "      <td>20</td>\n",
       "      <td>150000</td>\n",
       "      <td>60000</td>\n",
       "      <td>90000</td>\n",
       "      <td>4.5</td>\n",
       "      <td>500</td>\n",
       "      <td>2000</td>\n",
       "      <td>500</td>\n",
       "      <td>1000</td>\n",
       "    </tr>\n",
       "    <tr>\n",
       "      <th>91</th>\n",
       "      <td>92</td>\n",
       "      <td>Gelateria Della Palma</td>\n",
       "      <td>Florence</td>\n",
       "      <td>Italy</td>\n",
       "      <td>15</td>\n",
       "      <td>120000</td>\n",
       "      <td>50000</td>\n",
       "      <td>70000</td>\n",
       "      <td>4.3</td>\n",
       "      <td>450</td>\n",
       "      <td>1800</td>\n",
       "      <td>400</td>\n",
       "      <td>900</td>\n",
       "    </tr>\n",
       "    <tr>\n",
       "      <th>92</th>\n",
       "      <td>93</td>\n",
       "      <td>Grom</td>\n",
       "      <td>Turin</td>\n",
       "      <td>Italy</td>\n",
       "      <td>25</td>\n",
       "      <td>180000</td>\n",
       "      <td>75000</td>\n",
       "      <td>105000</td>\n",
       "      <td>4.2</td>\n",
       "      <td>550</td>\n",
       "      <td>2200</td>\n",
       "      <td>600</td>\n",
       "      <td>1100</td>\n",
       "    </tr>\n",
       "    <tr>\n",
       "      <th>93</th>\n",
       "      <td>94</td>\n",
       "      <td>Gelateria La Carraia</td>\n",
       "      <td>Venice</td>\n",
       "      <td>Italy</td>\n",
       "      <td>18</td>\n",
       "      <td>140000</td>\n",
       "      <td>58000</td>\n",
       "      <td>82000</td>\n",
       "      <td>4.6</td>\n",
       "      <td>480</td>\n",
       "      <td>1900</td>\n",
       "      <td>450</td>\n",
       "      <td>950</td>\n",
       "    </tr>\n",
       "    <tr>\n",
       "      <th>94</th>\n",
       "      <td>95</td>\n",
       "      <td>Gelateria De' Medici</td>\n",
       "      <td>Milan</td>\n",
       "      <td>Italy</td>\n",
       "      <td>12</td>\n",
       "      <td>100000</td>\n",
       "      <td>40000</td>\n",
       "      <td>60000</td>\n",
       "      <td>4.4</td>\n",
       "      <td>400</td>\n",
       "      <td>1600</td>\n",
       "      <td>350</td>\n",
       "      <td>800</td>\n",
       "    </tr>\n",
       "  </tbody>\n",
       "</table>\n",
       "</div>"
      ],
      "text/plain": [
       "    Franchise ID         Franchise Name      City Country  \\\n",
       "90            91     Gelateria Giolitti      Rome   Italy   \n",
       "91            92  Gelateria Della Palma  Florence   Italy   \n",
       "92            93                   Grom     Turin   Italy   \n",
       "93            94   Gelateria La Carraia    Venice   Italy   \n",
       "94            95   Gelateria De' Medici     Milan   Italy   \n",
       "\n",
       "    Number of Employees  Revenue  Profit  Expenses  \\\n",
       "90                   20   150000   60000     90000   \n",
       "91                   15   120000   50000     70000   \n",
       "92                   25   180000   75000    105000   \n",
       "93                   18   140000   58000     82000   \n",
       "94                   12   100000   40000     60000   \n",
       "\n",
       "    Customer Satisfaction Score  Number of Transactions  Marketing Spent  \\\n",
       "90                          4.5                     500             2000   \n",
       "91                          4.3                     450             1800   \n",
       "92                          4.2                     550             2200   \n",
       "93                          4.6                     480             1900   \n",
       "94                          4.4                     400             1600   \n",
       "\n",
       "    Pre-Marketing Visitors  Post-Marketing Visitors  \n",
       "90                     500                     1000  \n",
       "91                     400                      900  \n",
       "92                     600                     1100  \n",
       "93                     450                      950  \n",
       "94                     350                      800  "
      ]
     },
     "execution_count": 26,
     "metadata": {},
     "output_type": "execute_result"
    }
   ],
   "source": [
    "df_italy = original_df[original_df['Country'] == 'Italy']\n",
    "df_italy.head()"
   ]
  },
  {
   "cell_type": "markdown",
   "metadata": {},
   "source": [
    "### The average number of employees that is needed to run the ice cream franchise is  greater than 15."
   ]
  },
  {
   "cell_type": "code",
   "execution_count": 41,
   "metadata": {},
   "outputs": [
    {
     "name": "stdout",
     "output_type": "stream",
     "text": [
      "The average of recorded number of employees : 18\n",
      "The most frequent number of employees : 18\n",
      "     Country  Number of Employees\n",
      "0  Australia            18.466667\n",
      "1     Canada            18.466667\n",
      "2      China            18.466667\n",
      "3    Germany            18.466667\n",
      "4  Indonesia            11.733333\n",
      "5      Italy            18.466667\n",
      "6     Russia            18.466667\n",
      "7        USA            18.466667\n"
     ]
    }
   ],
   "source": [
    "average_number_of_employees = np.mean(original_df['Number of Employees'])\n",
    "frequent_number_of_employees = stat.mode(original_df['Number of Employees'])\n",
    "average_employees_per_country = original_df.groupby('Country')['Number of Employees'].mean().reset_index()\n",
    "print(\"The average of recorded number of employees :\", int(math.ceil(average_number_of_employees)))\n",
    "print(\"The most frequent number of employees :\", frequent_number_of_employees)\n",
    "print(average_employees_per_country)"
   ]
  },
  {
   "cell_type": "markdown",
   "metadata": {},
   "source": [
    "## Two Sample"
   ]
  },
  {
   "cell_type": "markdown",
   "metadata": {},
   "source": [
    "# Data Visualization"
   ]
  },
  {
   "cell_type": "markdown",
   "metadata": {},
   "source": [
    "### The 20 Italia franchises have maintained their customer service very well which makes them reach customer satisfaction scores above 4.5."
   ]
  },
  {
   "cell_type": "code",
   "execution_count": 25,
   "metadata": {},
   "outputs": [
    {
     "data": {
      "image/png": "[encoded data removed]",
      "text/plain": [
       "<Figure size 640x480 with 1 Axes>"
      ]
     },
     "metadata": {},
     "output_type": "display_data"
    }
   ],
   "source": [
    "# Plot histogram of customer satisfaction scores\n",
    "plt.hist(df_italy['Customer Satisfaction Score'], bins=5, alpha=0.8, edgecolor='black')\n",
    "\n",
    "plt.xlabel('Customer Satisfaction Score')\n",
    "plt.ylabel('Frequency')\n",
    "plt.title('Frequency of Customer Satisfaction Scores for Italian Franchises')\n",
    "\n",
    "plt.show()"
   ]
  },
  {
   "cell_type": "markdown",
   "metadata": {},
   "source": [
    "### The average number of employees that is needed to run the ice cream franchise is  greater than 15."
   ]
  },
  {
   "cell_type": "code",
   "execution_count": null,
   "metadata": {},
   "outputs": [],
   "source": []
  },
  {
   "cell_type": "markdown",
   "metadata": {},
   "source": [
    "# Hypothesis One Sample"
   ]
  },
  {
   "cell_type": "code",
   "execution_count": null,
   "metadata": {},
   "outputs": [],
   "source": []
  },
  {
   "cell_type": "markdown",
   "metadata": {},
   "source": [
    "# Hypothesis Two Sample"
   ]
  }
 ],
 "metadata": {
  "kernelspec": {
   "display_name": "Python 3 (ipykernel)",
   "language": "python",
   "name": "python3"
  },
  "language_info": {
   "codemirror_mode": {
    "name": "ipython",
    "version": 3
   },
   "file_extension": ".py",
   "mimetype": "text/x-python",
   "name": "python",
   "nbconvert_exporter": "python",
   "pygments_lexer": "ipython3",
   "version": "3.11.5"
  }
 },
 "nbformat": 4,
 "nbformat_minor": 4
}
