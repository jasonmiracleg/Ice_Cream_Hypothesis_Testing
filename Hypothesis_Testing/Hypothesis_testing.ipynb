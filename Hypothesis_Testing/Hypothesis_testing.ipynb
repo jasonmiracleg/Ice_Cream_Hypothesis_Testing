{
 "cells": [
  {
   "cell_type": "markdown",
   "metadata": {},
   "source": [
    "# Setup Part"
   ]
  },
  {
   "cell_type": "code",
   "execution_count": 83,
   "metadata": {
    "tags": []
   },
   "outputs": [],
   "source": [
    "# Import Library\n",
    "import numpy as np\n",
    "import pandas as pd\n",
    "from scipy import stats as st\n",
    "import statistics as stat\n",
    "import math\n",
    "\n",
    "import matplotlib.pyplot as plt\n",
    "import matplotlib.ticker as ticker\n",
    "import seaborn as sns"
   ]
  },
  {
   "cell_type": "code",
   "execution_count": 84,
   "metadata": {},
   "outputs": [],
   "source": [
    "# Function to retrieve critical value from t-table\n",
    "def get_t_table(alpha, tail, dof):\n",
    "    if tail == 2:\n",
    "        alpha /= 2\n",
    "    return st.t.isf([alpha], [dof])[0]"
   ]
  },
  {
   "cell_type": "code",
   "execution_count": 85,
   "metadata": {
    "tags": []
   },
   "outputs": [
    {
     "data": {
      "text/html": [
       "<div>\n",
       "<style scoped>\n",
       "    .dataframe tbody tr th:only-of-type {\n",
       "        vertical-align: middle;\n",
       "    }\n",
       "\n",
       "    .dataframe tbody tr th {\n",
       "        vertical-align: top;\n",
       "    }\n",
       "\n",
       "    .dataframe thead th {\n",
       "        text-align: right;\n",
       "    }\n",
       "</style>\n",
       "<table border=\"1\" class=\"dataframe\">\n",
       "  <thead>\n",
       "    <tr style=\"text-align: right;\">\n",
       "      <th></th>\n",
       "      <th>Franchise Name</th>\n",
       "      <th>City</th>\n",
       "      <th>Country</th>\n",
       "      <th>Number of Employees</th>\n",
       "      <th>Revenue</th>\n",
       "      <th>Profit</th>\n",
       "      <th>Expenses</th>\n",
       "      <th>Customer Satisfaction Score</th>\n",
       "      <th>Marketing Spent</th>\n",
       "      <th>Pre-Marketing Visitors</th>\n",
       "      <th>Post-Marketing Visitors</th>\n",
       "    </tr>\n",
       "  </thead>\n",
       "  <tbody>\n",
       "    <tr>\n",
       "      <th>0</th>\n",
       "      <td>Ice Cream World</td>\n",
       "      <td>Istanbul</td>\n",
       "      <td>Turkey</td>\n",
       "      <td>25</td>\n",
       "      <td>50000</td>\n",
       "      <td>15000</td>\n",
       "      <td>35000</td>\n",
       "      <td>8</td>\n",
       "      <td>5000</td>\n",
       "      <td>2000</td>\n",
       "      <td>3000</td>\n",
       "    </tr>\n",
       "    <tr>\n",
       "      <th>1</th>\n",
       "      <td>Chill Ice Cream</td>\n",
       "      <td>Ankara</td>\n",
       "      <td>Turkey</td>\n",
       "      <td>20</td>\n",
       "      <td>45000</td>\n",
       "      <td>12000</td>\n",
       "      <td>33000</td>\n",
       "      <td>7</td>\n",
       "      <td>4500</td>\n",
       "      <td>1800</td>\n",
       "      <td>2500</td>\n",
       "    </tr>\n",
       "    <tr>\n",
       "      <th>2</th>\n",
       "      <td>Sweet Scoops</td>\n",
       "      <td>Izmir</td>\n",
       "      <td>Turkey</td>\n",
       "      <td>18</td>\n",
       "      <td>42000</td>\n",
       "      <td>11000</td>\n",
       "      <td>31000</td>\n",
       "      <td>7</td>\n",
       "      <td>4000</td>\n",
       "      <td>1700</td>\n",
       "      <td>2400</td>\n",
       "    </tr>\n",
       "    <tr>\n",
       "      <th>3</th>\n",
       "      <td>Frozen Delights</td>\n",
       "      <td>Bursa</td>\n",
       "      <td>Turkey</td>\n",
       "      <td>15</td>\n",
       "      <td>38000</td>\n",
       "      <td>10000</td>\n",
       "      <td>28000</td>\n",
       "      <td>6</td>\n",
       "      <td>3500</td>\n",
       "      <td>1500</td>\n",
       "      <td>2200</td>\n",
       "    </tr>\n",
       "    <tr>\n",
       "      <th>4</th>\n",
       "      <td>Sundae Haven</td>\n",
       "      <td>Adana</td>\n",
       "      <td>Turkey</td>\n",
       "      <td>12</td>\n",
       "      <td>35000</td>\n",
       "      <td>9000</td>\n",
       "      <td>26000</td>\n",
       "      <td>6</td>\n",
       "      <td>3000</td>\n",
       "      <td>1400</td>\n",
       "      <td>2000</td>\n",
       "    </tr>\n",
       "  </tbody>\n",
       "</table>\n",
       "</div>"
      ],
      "text/plain": [
       "    Franchise Name      City Country  Number of Employees  Revenue  Profit  \\\n",
       "0  Ice Cream World  Istanbul  Turkey                   25    50000   15000   \n",
       "1  Chill Ice Cream    Ankara  Turkey                   20    45000   12000   \n",
       "2     Sweet Scoops     Izmir  Turkey                   18    42000   11000   \n",
       "3  Frozen Delights     Bursa  Turkey                   15    38000   10000   \n",
       "4     Sundae Haven     Adana  Turkey                   12    35000    9000   \n",
       "\n",
       "   Expenses  Customer Satisfaction Score  Marketing Spent  \\\n",
       "0     35000                            8             5000   \n",
       "1     33000                            7             4500   \n",
       "2     31000                            7             4000   \n",
       "3     28000                            6             3500   \n",
       "4     26000                            6             3000   \n",
       "\n",
       "   Pre-Marketing Visitors  Post-Marketing Visitors  \n",
       "0                    2000                     3000  \n",
       "1                    1800                     2500  \n",
       "2                    1700                     2400  \n",
       "3                    1500                     2200  \n",
       "4                    1400                     2000  "
      ]
     },
     "execution_count": 85,
     "metadata": {},
     "output_type": "execute_result"
    }
   ],
   "source": [
    "# Gather the Data\n",
    "url = 'https://raw.githubusercontent.com/jasonmiracleg/Ice_Cream_Hypothesis_Testing/main/Dataset/Ice_Cream_Franchise.csv'\n",
    "original_df = pd.read_csv(url, sep=',')\n",
    "original_df.head()"
   ]
  },
  {
   "cell_type": "markdown",
   "metadata": {},
   "source": [
    "# Managing the Data"
   ]
  },
  {
   "cell_type": "markdown",
   "metadata": {},
   "source": [
    "## One Sample"
   ]
  },
  {
   "cell_type": "markdown",
   "metadata": {},
   "source": [
    "### The 30 Italia franchises have maintained their customer service very well which makes them reach customer satisfaction scores above 8.2."
   ]
  },
  {
   "cell_type": "code",
   "execution_count": 86,
   "metadata": {},
   "outputs": [
    {
     "data": {
      "text/html": [
       "<div>\n",
       "<style scoped>\n",
       "    .dataframe tbody tr th:only-of-type {\n",
       "        vertical-align: middle;\n",
       "    }\n",
       "\n",
       "    .dataframe tbody tr th {\n",
       "        vertical-align: top;\n",
       "    }\n",
       "\n",
       "    .dataframe thead th {\n",
       "        text-align: right;\n",
       "    }\n",
       "</style>\n",
       "<table border=\"1\" class=\"dataframe\">\n",
       "  <thead>\n",
       "    <tr style=\"text-align: right;\">\n",
       "      <th></th>\n",
       "      <th>Franchise Name</th>\n",
       "      <th>City</th>\n",
       "      <th>Country</th>\n",
       "      <th>Number of Employees</th>\n",
       "      <th>Revenue</th>\n",
       "      <th>Profit</th>\n",
       "      <th>Expenses</th>\n",
       "      <th>Customer Satisfaction Score</th>\n",
       "      <th>Marketing Spent</th>\n",
       "      <th>Pre-Marketing Visitors</th>\n",
       "      <th>Post-Marketing Visitors</th>\n",
       "    </tr>\n",
       "  </thead>\n",
       "  <tbody>\n",
       "    <tr>\n",
       "      <th>30</th>\n",
       "      <td>Gelato Italia</td>\n",
       "      <td>Rome</td>\n",
       "      <td>Italy</td>\n",
       "      <td>30</td>\n",
       "      <td>55000</td>\n",
       "      <td>16000</td>\n",
       "      <td>39000</td>\n",
       "      <td>9</td>\n",
       "      <td>5500</td>\n",
       "      <td>2100</td>\n",
       "      <td>3200</td>\n",
       "    </tr>\n",
       "    <tr>\n",
       "      <th>31</th>\n",
       "      <td>Italian Ice Cream</td>\n",
       "      <td>Milan</td>\n",
       "      <td>Italy</td>\n",
       "      <td>25</td>\n",
       "      <td>52000</td>\n",
       "      <td>15000</td>\n",
       "      <td>37000</td>\n",
       "      <td>8</td>\n",
       "      <td>5200</td>\n",
       "      <td>2000</td>\n",
       "      <td>3100</td>\n",
       "    </tr>\n",
       "    <tr>\n",
       "      <th>32</th>\n",
       "      <td>Dolce Gelato</td>\n",
       "      <td>Florence</td>\n",
       "      <td>Italy</td>\n",
       "      <td>22</td>\n",
       "      <td>49000</td>\n",
       "      <td>14000</td>\n",
       "      <td>35000</td>\n",
       "      <td>8</td>\n",
       "      <td>4900</td>\n",
       "      <td>1900</td>\n",
       "      <td>3000</td>\n",
       "    </tr>\n",
       "    <tr>\n",
       "      <th>33</th>\n",
       "      <td>Gusto Gelateria</td>\n",
       "      <td>Venice</td>\n",
       "      <td>Italy</td>\n",
       "      <td>20</td>\n",
       "      <td>46000</td>\n",
       "      <td>13000</td>\n",
       "      <td>33000</td>\n",
       "      <td>7</td>\n",
       "      <td>4600</td>\n",
       "      <td>1800</td>\n",
       "      <td>2900</td>\n",
       "    </tr>\n",
       "    <tr>\n",
       "      <th>34</th>\n",
       "      <td>Bellissimo Gelato</td>\n",
       "      <td>Naples</td>\n",
       "      <td>Italy</td>\n",
       "      <td>18</td>\n",
       "      <td>43000</td>\n",
       "      <td>12000</td>\n",
       "      <td>31000</td>\n",
       "      <td>7</td>\n",
       "      <td>4300</td>\n",
       "      <td>1700</td>\n",
       "      <td>2800</td>\n",
       "    </tr>\n",
       "  </tbody>\n",
       "</table>\n",
       "</div>"
      ],
      "text/plain": [
       "       Franchise Name      City Country  Number of Employees  Revenue  Profit  \\\n",
       "30      Gelato Italia      Rome   Italy                   30    55000   16000   \n",
       "31  Italian Ice Cream     Milan   Italy                   25    52000   15000   \n",
       "32       Dolce Gelato  Florence   Italy                   22    49000   14000   \n",
       "33    Gusto Gelateria    Venice   Italy                   20    46000   13000   \n",
       "34  Bellissimo Gelato    Naples   Italy                   18    43000   12000   \n",
       "\n",
       "    Expenses  Customer Satisfaction Score  Marketing Spent  \\\n",
       "30     39000                            9             5500   \n",
       "31     37000                            8             5200   \n",
       "32     35000                            8             4900   \n",
       "33     33000                            7             4600   \n",
       "34     31000                            7             4300   \n",
       "\n",
       "    Pre-Marketing Visitors  Post-Marketing Visitors  \n",
       "30                    2100                     3200  \n",
       "31                    2000                     3100  \n",
       "32                    1900                     3000  \n",
       "33                    1800                     2900  \n",
       "34                    1700                     2800  "
      ]
     },
     "execution_count": 86,
     "metadata": {},
     "output_type": "execute_result"
    }
   ],
   "source": [
    "df_italy = original_df[original_df['Country'] == 'Italy']\n",
    "df_italy.head()"
   ]
  },
  {
   "cell_type": "code",
   "execution_count": 87,
   "metadata": {},
   "outputs": [
    {
     "name": "stdout",
     "output_type": "stream",
     "text": [
      "the average of the customer satisfaction is 3.5483870967741935\n",
      "the standard deviation is 2.419899580250102\n"
     ]
    }
   ],
   "source": [
    "Xbar_italia = np.mean(df_italy['Customer Satisfaction Score'])\n",
    "std_italia = np.std(df_italy['Customer Satisfaction Score'], ddof = 1)\n",
    "print('the average of the customer satisfaction is', Xbar_italia)\n",
    "print('the standard deviation is', std_italia)"
   ]
  },
  {
   "cell_type": "markdown",
   "metadata": {},
   "source": [
    "### The average number of employees that is needed to run the ice cream franchise is  greater than 15."
   ]
  },
  {
   "cell_type": "code",
   "execution_count": 88,
   "metadata": {},
   "outputs": [
    {
     "name": "stdout",
     "output_type": "stream",
     "text": [
      "The standard deviation is 8.323702423715513\n",
      "The average of recorded number of employees : 8\n",
      "The most frequent number of employees : 1\n",
      "     Country  Number of Employees\n",
      "0  Indonesia                  8.0\n",
      "1      Italy                  8.0\n",
      "2     Turkey                  6.0\n",
      "3        USA                 10.0\n"
     ]
    }
   ],
   "source": [
    "Xbar_employee = np.mean(original_df['Number of Employees'])\n",
    "frequent_number_of_employees = stat.mode(original_df['Number of Employees'])\n",
    "average_employees_per_country = original_df.groupby('Country')['Number of Employees'].mean().reset_index()\n",
    "average_employees_per_country['Number of Employees'] = np.ceil(average_employees_per_country['Number of Employees'])\n",
    "std_employees = np.std(original_df['Number of Employees'], ddof = 1)\n",
    "print(\"The standard deviation is\", std_employees)\n",
    "print(\"The average of recorded number of employees :\", int(math.ceil(Xbar_employee)))\n",
    "print(\"The most frequent number of employees :\", frequent_number_of_employees)\n",
    "print(average_employees_per_country)"
   ]
  },
  {
   "cell_type": "markdown",
   "metadata": {},
   "source": [
    "## Two Sample"
   ]
  },
  {
   "cell_type": "markdown",
   "metadata": {},
   "source": [
    "### The USA ice cream franchise has more average expenses than Indonesia’s."
   ]
  },
  {
   "cell_type": "code",
   "execution_count": 89,
   "metadata": {},
   "outputs": [
    {
     "data": {
      "text/html": [
       "<div>\n",
       "<style scoped>\n",
       "    .dataframe tbody tr th:only-of-type {\n",
       "        vertical-align: middle;\n",
       "    }\n",
       "\n",
       "    .dataframe tbody tr th {\n",
       "        vertical-align: top;\n",
       "    }\n",
       "\n",
       "    .dataframe thead th {\n",
       "        text-align: right;\n",
       "    }\n",
       "</style>\n",
       "<table border=\"1\" class=\"dataframe\">\n",
       "  <thead>\n",
       "    <tr style=\"text-align: right;\">\n",
       "      <th></th>\n",
       "      <th>USA_expenses</th>\n",
       "      <th>Indonesia_expenses</th>\n",
       "    </tr>\n",
       "  </thead>\n",
       "  <tbody>\n",
       "    <tr>\n",
       "      <th>0</th>\n",
       "      <td>40000</td>\n",
       "      <td>39000</td>\n",
       "    </tr>\n",
       "    <tr>\n",
       "      <th>1</th>\n",
       "      <td>39000</td>\n",
       "      <td>37000</td>\n",
       "    </tr>\n",
       "    <tr>\n",
       "      <th>2</th>\n",
       "      <td>38000</td>\n",
       "      <td>35000</td>\n",
       "    </tr>\n",
       "    <tr>\n",
       "      <th>3</th>\n",
       "      <td>37000</td>\n",
       "      <td>33000</td>\n",
       "    </tr>\n",
       "    <tr>\n",
       "      <th>4</th>\n",
       "      <td>36000</td>\n",
       "      <td>31000</td>\n",
       "    </tr>\n",
       "  </tbody>\n",
       "</table>\n",
       "</div>"
      ],
      "text/plain": [
       "   USA_expenses  Indonesia_expenses\n",
       "0         40000               39000\n",
       "1         39000               37000\n",
       "2         38000               35000\n",
       "3         37000               33000\n",
       "4         36000               31000"
      ]
     },
     "execution_count": 89,
     "metadata": {},
     "output_type": "execute_result"
    }
   ],
   "source": [
    "expenses_of_USA = original_df[original_df['Country'] == 'USA']['Expenses'].values\n",
    "expenses_of_Indonesia = original_df[original_df['Country'] == 'Indonesia']['Expenses'].values\n",
    "final_expenses = pd.DataFrame({'USA_expenses' : expenses_of_USA, 'Indonesia_expenses': expenses_of_Indonesia})\n",
    "final_expenses.head()"
   ]
  },
  {
   "cell_type": "code",
   "execution_count": 90,
   "metadata": {},
   "outputs": [
    {
     "name": "stdout",
     "output_type": "stream",
     "text": [
      "The average of expenses in USA is 23528.33\n",
      "The average of expenses in Indonesia is 17730.00\n",
      "The standard deviation sample of USA's expenses is 11319.40\n",
      "The standard deviation sample of Indonesia's expenses is 9974.18\n"
     ]
    }
   ],
   "source": [
    "Xbar_USA = np.mean(expenses_of_USA)\n",
    "Xbar_Indonesia = np.mean(expenses_of_Indonesia)\n",
    "std_dev_sample_USA = np.std(expenses_of_USA, ddof=1)\n",
    "std_dev_sample_Indonesia = np.std(expenses_of_Indonesia, ddof=1)\n",
    "print(\"The average of expenses in USA is {:.2f}\".format(Xbar_USA))\n",
    "print(\"The average of expenses in Indonesia is {:.2f}\".format(Xbar_Indonesia))\n",
    "print(\"The standard deviation sample of USA's expenses is {:.2f}\".format(std_dev_sample_USA))\n",
    "print(\"The standard deviation sample of Indonesia's expenses is {:.2f}\".format(std_dev_sample_Indonesia))"
   ]
  },
  {
   "cell_type": "markdown",
   "metadata": {},
   "source": [
    "### There’s a significant difference between pre-marketing visitor and post-marketing visitor because of the marketing spend."
   ]
  },
  {
   "cell_type": "code",
   "execution_count": 107,
   "metadata": {},
   "outputs": [
    {
     "data": {
      "text/html": [
       "<div>\n",
       "<style scoped>\n",
       "    .dataframe tbody tr th:only-of-type {\n",
       "        vertical-align: middle;\n",
       "    }\n",
       "\n",
       "    .dataframe tbody tr th {\n",
       "        vertical-align: top;\n",
       "    }\n",
       "\n",
       "    .dataframe thead th {\n",
       "        text-align: right;\n",
       "    }\n",
       "</style>\n",
       "<table border=\"1\" class=\"dataframe\">\n",
       "  <thead>\n",
       "    <tr style=\"text-align: right;\">\n",
       "      <th></th>\n",
       "      <th>Pre-Marketing Visitors</th>\n",
       "      <th>Post-Marketing Visitors</th>\n",
       "    </tr>\n",
       "  </thead>\n",
       "  <tbody>\n",
       "    <tr>\n",
       "      <th>0</th>\n",
       "      <td>2000</td>\n",
       "      <td>3000</td>\n",
       "    </tr>\n",
       "    <tr>\n",
       "      <th>1</th>\n",
       "      <td>1800</td>\n",
       "      <td>2500</td>\n",
       "    </tr>\n",
       "    <tr>\n",
       "      <th>2</th>\n",
       "      <td>1700</td>\n",
       "      <td>2400</td>\n",
       "    </tr>\n",
       "    <tr>\n",
       "      <th>3</th>\n",
       "      <td>1500</td>\n",
       "      <td>2200</td>\n",
       "    </tr>\n",
       "    <tr>\n",
       "      <th>4</th>\n",
       "      <td>1400</td>\n",
       "      <td>2000</td>\n",
       "    </tr>\n",
       "  </tbody>\n",
       "</table>\n",
       "</div>"
      ],
      "text/plain": [
       "   Pre-Marketing Visitors  Post-Marketing Visitors\n",
       "0                    2000                     3000\n",
       "1                    1800                     2500\n",
       "2                    1700                     2400\n",
       "3                    1500                     2200\n",
       "4                    1400                     2000"
      ]
     },
     "execution_count": 107,
     "metadata": {},
     "output_type": "execute_result"
    }
   ],
   "source": [
    "df_marketing = pd.DataFrame(original_df[['Pre-Marketing Visitors', 'Post-Marketing Visitors']])\n",
    "df_marketing.head()"
   ]
  },
  {
   "cell_type": "code",
   "execution_count": 92,
   "metadata": {},
   "outputs": [
    {
     "data": {
      "text/html": [
       "<div>\n",
       "<style scoped>\n",
       "    .dataframe tbody tr th:only-of-type {\n",
       "        vertical-align: middle;\n",
       "    }\n",
       "\n",
       "    .dataframe tbody tr th {\n",
       "        vertical-align: top;\n",
       "    }\n",
       "\n",
       "    .dataframe thead th {\n",
       "        text-align: right;\n",
       "    }\n",
       "</style>\n",
       "<table border=\"1\" class=\"dataframe\">\n",
       "  <thead>\n",
       "    <tr style=\"text-align: right;\">\n",
       "      <th></th>\n",
       "      <th>Pre-Marketing Visitors</th>\n",
       "      <th>Post-Marketing Visitors</th>\n",
       "      <th>difference</th>\n",
       "      <th>(d-dbar)</th>\n",
       "      <th>(d-dbar)^2</th>\n",
       "    </tr>\n",
       "  </thead>\n",
       "  <tbody>\n",
       "    <tr>\n",
       "      <th>0</th>\n",
       "      <td>2000</td>\n",
       "      <td>3000</td>\n",
       "      <td>1000</td>\n",
       "      <td>180.578512</td>\n",
       "      <td>32608.599139</td>\n",
       "    </tr>\n",
       "    <tr>\n",
       "      <th>1</th>\n",
       "      <td>1800</td>\n",
       "      <td>2500</td>\n",
       "      <td>700</td>\n",
       "      <td>-119.421488</td>\n",
       "      <td>14261.491701</td>\n",
       "    </tr>\n",
       "    <tr>\n",
       "      <th>2</th>\n",
       "      <td>1700</td>\n",
       "      <td>2400</td>\n",
       "      <td>700</td>\n",
       "      <td>-119.421488</td>\n",
       "      <td>14261.491701</td>\n",
       "    </tr>\n",
       "    <tr>\n",
       "      <th>3</th>\n",
       "      <td>1500</td>\n",
       "      <td>2200</td>\n",
       "      <td>700</td>\n",
       "      <td>-119.421488</td>\n",
       "      <td>14261.491701</td>\n",
       "    </tr>\n",
       "    <tr>\n",
       "      <th>4</th>\n",
       "      <td>1400</td>\n",
       "      <td>2000</td>\n",
       "      <td>600</td>\n",
       "      <td>-219.421488</td>\n",
       "      <td>48145.789222</td>\n",
       "    </tr>\n",
       "  </tbody>\n",
       "</table>\n",
       "</div>"
      ],
      "text/plain": [
       "   Pre-Marketing Visitors  Post-Marketing Visitors  difference    (d-dbar)  \\\n",
       "0                    2000                     3000        1000  180.578512   \n",
       "1                    1800                     2500         700 -119.421488   \n",
       "2                    1700                     2400         700 -119.421488   \n",
       "3                    1500                     2200         700 -119.421488   \n",
       "4                    1400                     2000         600 -219.421488   \n",
       "\n",
       "     (d-dbar)^2  \n",
       "0  32608.599139  \n",
       "1  14261.491701  \n",
       "2  14261.491701  \n",
       "3  14261.491701  \n",
       "4  48145.789222  "
      ]
     },
     "execution_count": 92,
     "metadata": {},
     "output_type": "execute_result"
    }
   ],
   "source": [
    "df_marketing['difference'] = df_marketing['Post-Marketing Visitors']-df_marketing['Pre-Marketing Visitors']\n",
    "dbar_marketing = np.mean(df_marketing['difference'])\n",
    "df_marketing['(d-dbar)'] = df_marketing.apply(lambda row: (row['difference']-dbar_marketing), axis=1)\n",
    "df_marketing['(d-dbar)^2'] = df_marketing.apply(lambda row: (row['(d-dbar)'])**2, axis =1)\n",
    "df_marketing.head()"
   ]
  },
  {
   "cell_type": "markdown",
   "metadata": {},
   "source": [
    "# Data Visualization"
   ]
  },
  {
   "cell_type": "markdown",
   "metadata": {},
   "source": [
    "### The 30 Italia franchises have maintained their customer service very well which makes them reach customer satisfaction scores above 8.2."
   ]
  },
  {
   "cell_type": "code",
   "execution_count": 93,
   "metadata": {},
   "outputs": [
    {
     "data": {
      "image/png": "[encoded data removed]",
      "text/plain": [
       "<Figure size 640x480 with 1 Axes>"
      ]
     },
     "metadata": {},
     "output_type": "display_data"
    }
   ],
   "source": [
    "# Plot histogram of customer satisfaction scores\n",
    "plt.hist(df_italy['Customer Satisfaction Score'], bins=8, alpha=0.8, edgecolor='black')\n",
    "\n",
    "plt.xlabel('Customer Satisfaction Score')\n",
    "plt.ylabel('Frequency')\n",
    "plt.title('Frequency of Customer Satisfaction Scores for Italian Franchises')\n",
    "\n",
    "plt.show()"
   ]
  },
  {
   "cell_type": "markdown",
   "metadata": {},
   "source": [
    "### The average number of employees that is needed to run the ice cream franchise is  greater than 15."
   ]
  },
  {
   "cell_type": "code",
   "execution_count": 94,
   "metadata": {},
   "outputs": [
    {
     "data": {
      "image/png": "[encoded data removed]",
      "text/plain": [
       "<Figure size 640x480 with 1 Axes>"
      ]
     },
     "metadata": {},
     "output_type": "display_data"
    }
   ],
   "source": [
    "graph = sns.barplot(x=average_employees_per_country['Country'], y=average_employees_per_country['Number of Employees'], data=average_employees_per_country)\n",
    "graph.set_title('The Average Number of Employees Each Country')\n",
    "graph.yaxis.set_major_formatter(ticker.StrMethodFormatter('{x:.0f}'))\n",
    "graph.set_xticklabels(graph.get_xticklabels())\n",
    "plt.show()"
   ]
  },
  {
   "cell_type": "markdown",
   "metadata": {},
   "source": [
    "### The USA ice cream franchise has more average expenses than Indonesia’s."
   ]
  },
  {
   "cell_type": "code",
   "execution_count": 95,
   "metadata": {},
   "outputs": [
    {
     "data": {
      "image/png": "[encoded data removed]",
      "text/plain": [
       "<Figure size 640x480 with 1 Axes>"
      ]
     },
     "metadata": {},
     "output_type": "display_data"
    }
   ],
   "source": [
    "mean_expenses = final_expenses[['Indonesia_expenses', 'USA_expenses']].mean()\n",
    "\n",
    "# Create a bar plot\n",
    "bar_expenses = sns.barplot(x=mean_expenses.index, y=mean_expenses.values)\n",
    "bar_expenses.set_title('The Average Expenses Between Indonesia and USA')\n",
    "bar_expenses.set_ylabel('Average Expenses')\n",
    "bar_expenses.set_xlabel('Country')\n",
    "bar_expenses.yaxis.set_major_formatter(ticker.StrMethodFormatter('{x:.0f}'))\n",
    "plt.show()"
   ]
  },
  {
   "cell_type": "markdown",
   "metadata": {},
   "source": [
    "### There’s a significant difference between pre-marketing visitor and post-marketing visitor because of the marketing spend."
   ]
  },
  {
   "cell_type": "code",
   "execution_count": 96,
   "metadata": {},
   "outputs": [
    {
     "data": {
      "image/png": "[encoded data removed]",
      "text/plain": [
       "<Figure size 800x600 with 1 Axes>"
      ]
     },
     "metadata": {},
     "output_type": "display_data"
    }
   ],
   "source": [
    "plt.figure(figsize=(8, 6))\n",
    "sns.boxplot(data=df_marketing[['Pre-Marketing Visitors', 'Post-Marketing Visitors']])\n",
    "plt.title('Comparison of Pre-Marketing and Post-Marketing Visitors')\n",
    "plt.ylabel('Number of Visitors')\n",
    "plt.show()"
   ]
  },
  {
   "cell_type": "markdown",
   "metadata": {},
   "source": [
    "# Hypothesis Testing"
   ]
  },
  {
   "cell_type": "markdown",
   "metadata": {},
   "source": [
    "## Hypothesis One Sample Test"
   ]
  },
  {
   "cell_type": "markdown",
   "metadata": {},
   "source": [
    "### The 30 Italia franchises have maintained their customer service very well which makes them reach customer satisfaction scores above 8.2"
   ]
  },
  {
   "cell_type": "code",
   "execution_count": 109,
   "metadata": {},
   "outputs": [
    {
     "name": "stdout",
     "output_type": "stream",
     "text": [
      "t_calculation = -10.53\n",
      "t_table = 1.70\n",
      "Fail to Reject H0. The Italia ice cream franchises hasn't reached customer satisfaction scores above 8.2\n"
     ]
    }
   ],
   "source": [
    "# Step 1 : State null and alternative hypothesis\n",
    "# H0 : Miu <= 8.2\n",
    "# H1 : Miu > 8.2\n",
    "\n",
    "# Step 2 : Select level of significance and identify the known data\n",
    "Miu = 8.2\n",
    "n = 30\n",
    "tail = 1\n",
    "dof = n-1\n",
    "alpha = 0.05\n",
    "\n",
    "# Step 3 : Identify the test statistics\n",
    "# Since this hypothesis only evaluates one sample, this test belongs to One Sample Test \n",
    "# Using the t-test because of the unknown population standard deviation\n",
    "\n",
    "# Step 4 : Formulate a decision rule\n",
    "# H0 is rejected if t_calc > t_table(alpha)\n",
    "\n",
    "# Step 5 : Take a sample, arrive at decision\n",
    "t_calc = (Xbar_italia - Miu) / (std_italia / np.sqrt(n))\n",
    "t_table = get_t_table(alpha, tail, dof)\n",
    "print(\"t_calculation = {:.2f}\".format(t_calc))\n",
    "print(\"t_table = {:.2f}\".format(t_table))\n",
    "\n",
    "# Step 6 : Interpret the result\n",
    "if t_calc > t_table:\n",
    "    print(\"H0 is rejected. The Italia ice cream franchises indeed reach customer satisfaction scores above 8.2\")\n",
    "else:\n",
    "    print(\"Fail to Reject H0. The Italia ice cream franchises hasn't reached customer satisfaction scores above 8.2\")"
   ]
  },
  {
   "cell_type": "markdown",
   "metadata": {},
   "source": [
    "### The average number of employees that is needed to run the ice cream franchise is  greater than 15."
   ]
  },
  {
   "cell_type": "code",
   "execution_count": 98,
   "metadata": {},
   "outputs": [
    {
     "name": "stdout",
     "output_type": "stream",
     "text": [
      "t_calculation = -9.86\n",
      "t_table = 1.66\n",
      "Fail to Reject H0. The average number of employees that is needed is below 15\n"
     ]
    }
   ],
   "source": [
    "# Step 1 : State the null and alternate hypothesis\n",
    "# H0 : Miu <= 15\n",
    "# H1 : Miu > 15\n",
    "\n",
    "# Step 2 : Select level of significance and identify the known data\n",
    "alpha = 0.05\n",
    "Miu = 15\n",
    "tail = 1\n",
    "n = original_df['Number of Employees'].count()\n",
    "dof = n-1\n",
    "\n",
    "# Step 3 : Identify the test statistics\n",
    "# Since this test only involves one sample, thi test belongs to One Sample Test\n",
    "# Using the t-test because of the unknown population standard deviation\n",
    "\n",
    "# Step 4 : Formulate a decion rule\n",
    "# Reject H0 if t_calc > t_table(alpha)\n",
    "\n",
    "# Step 5 : Take a sample, arrive at decision\n",
    "t_calc = (Xbar_employee - Miu) / (std_employees / np.sqrt(n))\n",
    "t_table = get_t_table(alpha, tail, dof)\n",
    "print('t_calculation = {:.2f}'.format(t_calc))\n",
    "print('t_table = {:.2f}'.format(t_table))\n",
    "\n",
    "# Step 6 : Interpret the result\n",
    "if t_calc > t_table:\n",
    "    print('H0 is rejected. The average number of employees that is needed is indeed greater than 15')\n",
    "else:\n",
    "    print('Fail to Reject H0. The average number of employees that is needed is below 15')"
   ]
  },
  {
   "cell_type": "markdown",
   "metadata": {},
   "source": [
    "## Hypothesis Two Sample Test"
   ]
  },
  {
   "cell_type": "markdown",
   "metadata": {},
   "source": [
    "### There’s a significant difference between pre-marketing visitor and post-marketing visitor because of the marketing spend."
   ]
  },
  {
   "cell_type": "code",
   "execution_count": 103,
   "metadata": {},
   "outputs": [
    {
     "name": "stdout",
     "output_type": "stream",
     "text": [
      "t_calculation = 28.54\n",
      "t_table = 1.98\n",
      "H0 is rejected. There is a significant difference between pre-marketing visitor and post-marketing visitor\n"
     ]
    }
   ],
   "source": [
    "# Step 1 : State the null and alternate hypothesis\n",
    "# H0 : Miu_pre_marketing == Miu_post_marketing\n",
    "# H1 : Miu_pre_marketing != Miu_post_marketing\n",
    "\n",
    "# Step 2 : Select level of significance and identify the known data\n",
    "alpha = 0.05\n",
    "tail = 2\n",
    "n = len(df_marketing)\n",
    "dof = n - 1\n",
    "std_dev_sample_marketing = np.std(df_marketing['difference'], ddof=1)\n",
    "\n",
    "# Step 3 : Identify the test statistics\n",
    "# This belongs to two sample test (Dependent - Paired Sample)\n",
    "# Using the t-test because of the unknown population standard deviation\n",
    "\n",
    "# Step 4 : Formulate a decion rule\n",
    "# Reject H0 if |t_calc| > t_table(alpha/2)\n",
    "\n",
    "# Step 5 : Take a sample, arrive at decision\n",
    "t_calc = dbar_marketing / (std_dev_sample_marketing / np.sqrt(n))\n",
    "t_table = get_t_table(alpha, tail, dof)\n",
    "print('t_calculation = {:.2f}'.format(t_calc))\n",
    "print('t_table = {:.2f}'.format(t_table))\n",
    "\n",
    "# Step 6 : Interpret the result\n",
    "if np.abs(t_calc) > t_table:\n",
    "    print('H0 is rejected. There is a significant difference between pre-marketing visitor and post-marketing visitor')\n",
    "else:\n",
    "    print('Fail to Reject H0. There is no significant difference between pre-marketing visitor and post-marketing visitor')"
   ]
  },
  {
   "cell_type": "markdown",
   "metadata": {},
   "source": [
    "### The USA ice cream franchise has more average expenses than Indonesia’s."
   ]
  },
  {
   "cell_type": "code",
   "execution_count": 100,
   "metadata": {},
   "outputs": [
    {
     "name": "stdout",
     "output_type": "stream",
     "text": [
      "t_calculation = 1.72\n",
      "t_table = 1.69\n",
      "H0 is rejected. The average expenses of USA is indeed greater than Indonesia's\n"
     ]
    }
   ],
   "source": [
    "# Step 1 : State the null and alternate hypothesis\n",
    "# H0 : Miu_USA <= Miu_Indonesia\n",
    "# H1 : Miu_USA > Miu_Indonesia\n",
    "\n",
    "# Step 2 : Select level of significance and identify the known data\n",
    "alpha = 0.05\n",
    "tail = 1\n",
    "n = 20\n",
    "dof = 2 * n - 2\n",
    "\n",
    "std_dev_pooled_sample= ((n -1) * np.power(std_dev_sample_Indonesia, 2) + (n-1) * np.power(std_dev_sample_USA, 2))/ dof\n",
    "\n",
    "# Step 3 : Identify the test statistics\n",
    "# This belongs to two sample test (Independent - Unknown Population Standard Deviations)\n",
    "# Using the t-test because of the unknown population standard deviation\n",
    "\n",
    "# Step 4 : Formulate a decion rule\n",
    "# Reject H0 if t_calc > t_table(alpha)\n",
    "\n",
    "# Step 5 : Take a sample, arrive at decision\n",
    "t_calc = (Xbar_USA - Xbar_Indonesia) / np.sqrt(std_dev_pooled_sample * (1/n + 1/n))\n",
    "t_table = get_t_table(alpha, tail, dof)\n",
    "print('t_calculation = {:.2f}'.format(t_calc))\n",
    "print('t_table = {:.2f}'.format(t_table))\n",
    "\n",
    "# Step 6 : Interpret the result\n",
    "if t_calc > t_table:\n",
    "    print(\"H0 is rejected. The average expenses of USA is indeed greater than Indonesia's\")\n",
    "else:\n",
    "    print(\"Fail to Reject H0. The average expenses of USA is less than Indonesia's\")"
   ]
  },
  {
   "cell_type": "code",
   "execution_count": null,
   "metadata": {},
   "outputs": [],
   "source": []
  }
 ],
 "metadata": {
  "kernelspec": {
   "display_name": "Python 3 (ipykernel)",
   "language": "python",
   "name": "python3"
  },
  "language_info": {
   "codemirror_mode": {
    "name": "ipython",
    "version": 3
   },
   "file_extension": ".py",
   "mimetype": "text/x-python",
   "name": "python",
   "nbconvert_exporter": "python",
   "pygments_lexer": "ipython3",
   "version": "3.11.5"
  }
 },
 "nbformat": 4,
 "nbformat_minor": 4
}
